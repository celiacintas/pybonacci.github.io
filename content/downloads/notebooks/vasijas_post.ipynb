{
 "cells": [
  {
   "cell_type": "markdown",
   "metadata": {},
   "source": [
    "## Raiders of the pottery GAN\n",
    "### Usando Redes Generativas Adversarias para generación sintética de modelos 3D de materiales en arqueología\n",
    "\n",
    "Los restos cerámicos proporcionan valiosa información que ayuda a datar el estrato arqueológico donde se encuentran, aportando <font color=violet>evidencias</font> de la producción local, relaciones comerciales, comportamiento de consumidores en poblaciones locales, etc. [1, 2]\\cite{Orton93, Kampel2003}.\n",
    "\n",
    "La <font color=violet>fragilidad de la cerámica</font> hace que la mayor parte del material recuperado en un yacimiento arqueológico no se corresponda con piezas completas por lo que la  <font color=violet>gran mayoría</font> del material disponible está  <font color=violet>fragmentado</font>.\n",
    "\n",
    "<div style=\"text-align:center\"><img src=\"https://media.giphy.com/media/uA147Pq6OvgCA/giphy.gif\" /></div>"
   ]
  },
  {
   "cell_type": "markdown",
   "metadata": {},
   "source": [
    "La colección está formada por <font color=violet>vasijas cerámicas de torno</font> encontradas en diversos yacimientos arqueológicos ibéricos ubicados en el Valle del Alto Gualquivir (España).\n",
    "\n",
    "<div style=\"text-align:center\"><img src=\"https://github.com/celiacintas/vasijas/blob/master/imagenes/dataset.png\" width=\"400\"/></div>\n",
    "\n",
    "\n",
    "Está compuesta por unos miles de distintos recipientes, de los que se han registrado y clasificado <font color=violet>sus perfiles 2D proyectados</font> (vista lateral de cada una de ellas). La clasificación fue hecha en base a <font color=violet>criterios morfológicos</font> por un grupo de expertos~\\cite{LucenaMTAP2014}."
   ]
  },
  {
   "cell_type": "markdown",
   "metadata": {},
   "source": [
    "## ¿Cómo generamos nuevas muestras 3D? \n",
    "\n",
    "<div style=\"text-align:center\"><img src=\"https://github.com/celiacintas/vasijas/blob/master/imagenes/augmentation.png\"/></div>\n",
    "\n"
   ]
  },
  {
   "cell_type": "markdown",
   "metadata": {},
   "source": [
    "## ¿Qué bibliotecas de Python usamos para implementarnuestros experimentos?\n",
    "\n",
    "\n",
    "<div style=\"text-align:center\"><img src=\"https://media.giphy.com/media/JDmIrA84Pw1hK/giphy.gif\" /></div>"
   ]
  },
  {
   "cell_type": "code",
   "execution_count": null,
   "metadata": {},
   "outputs": [],
   "source": [
    "import ..."
   ]
  }
 ],
 "metadata": {
  "kernelspec": {
   "display_name": "vasijas",
   "language": "python",
   "name": "vasijas"
  },
  "language_info": {
   "codemirror_mode": {
    "name": "ipython",
    "version": 3
   },
   "file_extension": ".py",
   "mimetype": "text/x-python",
   "name": "python",
   "nbconvert_exporter": "python",
   "pygments_lexer": "ipython3",
   "version": "3.7.4"
  }
 },
 "nbformat": 4,
 "nbformat_minor": 4
}
