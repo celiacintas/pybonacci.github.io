{
 "cells": [
  {
   "cell_type": "markdown",
   "metadata": {},
   "source": [
    "## Raiders of the pottery GAN\n",
    "### Usando Redes Generativas Adversarias para generación sintética de modelos 3D de materiales en arqueología\n",
    "\n",
    "Los restos cerámicos proporcionan valiosa información que ayuda a datar el estrato arqueológico donde se encuentran, aportando <font color=violet>evidencias</font> de la producción local, relaciones comerciales, comportamiento de consumidores en poblaciones locales, etc. [1, 2]\\cite{Orton93, Kampel2003}.\n",
    "\n",
    "La <font color=violet>fragilidad de la cerámica</font> hace que la mayor parte del material recuperado en un yacimiento arqueológico no se corresponda con piezas completas por lo que la  <font color=violet>gran mayoría</font> del material disponible está  <font color=violet>fragmentado</font>.\n",
    "\n",
    "<div style=\"text-align:center\"><img src=\"https://media.giphy.com/media/uA147Pq6OvgCA/giphy.gif\" /></div>"
   ]
  },
  {
   "cell_type": "markdown",
   "metadata": {},
   "source": [
    "La colección está formada por <font color=violet>vasijas cerámicas de torno</font> encontradas en diversos yacimientos arqueológicos ibéricos ubicados en el Valle del Alto Gualquivir (España).\n",
    "\n",
    "<div style=\"text-align:center\"><img src=\"https://raw.githubusercontent.com/celiacintas/vasijas/master/imagenes/dataset.png\" width=\"400\"/></div>\n",
    "\n",
    "\n",
    "\n",
    "Está compuesta por unos miles de distintos recipientes, de los que se han registrado y clasificado <font color=violet>sus perfiles 2D proyectados</font> (vista lateral de cada una de ellas). La clasificación fue hecha en base a <font color=violet>criterios morfológicos</font> por un grupo de expertos~\\cite{LucenaMTAP2014}."
   ]
  },
  {
   "cell_type": "markdown",
   "metadata": {},
   "source": [
    "## ¿Cómo generamos nuevas muestras 3D? \n",
    "\n",
    "<div style=\"text-align:center\"><img src=\"https://raw.githubusercontent.com/celiacintas/vasijas/master/imagenes/augmentation_w.png\"/></div>\n",
    "\n"
   ]
  },
  {
   "cell_type": "markdown",
   "metadata": {},
   "source": [
    "## ¿Qué bibliotecas de Python usamos para implementar nuestros experimentos?\n",
    "\n",
    "\n",
    "<div style=\"text-align:center\"><img src=\"https://media.giphy.com/media/JDmIrA84Pw1hK/giphy.gif\" /></div>"
   ]
  },
  {
   "cell_type": "code",
   "execution_count": null,
   "metadata": {},
   "outputs": [],
   "source": [
    "#import trimesh, matplotlib, numpy, torch ... "
   ]
  },
  {
   "cell_type": "markdown",
   "metadata": {},
   "source": [
    "## Qué es entrenamiento adversario?\n",
    "\n",
    "\\begin{equation}\n",
    "\\min_{\\text{roca}}\\max_{\\text{indiana}} V(\\text{indiana}, \\text{roca}) = \\text{distancia entre ellos}\n",
    "\\end{equation}\n",
    "\n",
    "\n",
    "<div style=\"text-align:center\"><img src=\"https://media.giphy.com/media/UVqDh08BFyGfrx9tRU/giphy.gif\" /></div>\n",
    "\n",
    "<div style=\"text-align:center\"><img src=\"https://raw.githubusercontent.com/celiacintas/vasijas//master/imagenes/overview.png\" /></div>\n",
    "\n",
    "\n",
    "Imagen de \\cite{DBLP:journals/corr/abs-1710-07035}\n",
    "\n",
    "\n",
    "### Algunas notaciones básicas\n",
    "\n",
    "- $x$ es un <font color=violet>elemento de nuestro dataset </font> (<img src=\"https://raw.githubusercontent.com/celiacintas/vasijas//master/imagenes/amphora_1f3fa.png\"  width=20/>).\n",
    "- $D(x)$ es la salida de la red evaluadora (<img src=\"https://raw.githubusercontent.com/celiacintas/vasijas//master/imagenes/detective.png\"  width=20/>), que nos devuelve <font color=violet>la probabilidad</font> de que $x$ sea real (<img src=\"https://raw.githubusercontent.com/celiacintas/vasijas//master/imagenes/amphora_1f3fa.png\"  width=20/>) o generado (<img src=\"https://raw.githubusercontent.com/celiacintas/vasijas//master/imagenes/robot-face_1f916.png\"  width=20/>) . $D(x)$ debería ser un valor alto cuando $x$ proviene de los datos de entrenamiento y bajo cuando $x$ es salida del generador.\n",
    "- $z$ es <font color=violet>el vector del espacio latente</font> muestreado sobre una distribución normal. $G(z)$ representa la función del generador (<img src=\"https://raw.githubusercontent.com/celiacintas/vasijas//master/imagenes/robot-face_1f916.png\"  width=20/>) que mapea el vector $z$ sobre el espacio de nuestros datos. \n",
    "- $D(G(z))$ es la probabilidad que la salida del generador sea un elemento real. $D$ trata de <font color=violet>maximizar la probabilidad</font> de clasificar correctamente elementos reales y falsos} ($\\log D(x)$), y $G$ trata de <font color=violet> minimizar la probabilidad </font> de que $D$ clasifique sus elementos generados como falsos} $(\\log (1 - D(G(x))$)\n"
   ]
  },
  {
   "cell_type": "markdown",
   "metadata": {},
   "source": []
  }
 ],
 "metadata": {
  "kernelspec": {
   "display_name": "vasijas",
   "language": "python",
   "name": "vasijas"
  },
  "language_info": {
   "codemirror_mode": {
    "name": "ipython",
    "version": 3
   },
   "file_extension": ".py",
   "mimetype": "text/x-python",
   "name": "python",
   "nbconvert_exporter": "python",
   "pygments_lexer": "ipython3",
   "version": "3.7.4"
  }
 },
 "nbformat": 4,
 "nbformat_minor": 4
}
