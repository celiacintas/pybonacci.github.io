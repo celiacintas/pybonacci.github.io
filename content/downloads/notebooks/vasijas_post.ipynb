{
 "cells": [
  {
   "cell_type": "markdown",
   "metadata": {},
   "source": [
    "## Raiders of the pottery GAN\n",
    "### Usando Redes Generativas Adversarias para generación sintética de modelos 3D de materiales en arqueología\n",
    "\n",
    "Los restos cerámicos proporcionan valiosa información que ayuda a datar el estrato arqueológico donde se encuentran, aportando **evidencias** de la producción local, relaciones comerciales, comportamiento de consumidores en poblaciones locales, etc. [1, 2]\\cite{Orton93, Kampel2003}.\n",
    "\n",
    "La **fragilidad de la cerámica** hace que la mayor parte del material recuperado en un yacimiento arqueológico no se corresponda con piezas completas por lo que la **gran mayoría** del material disponible está  **fragmentado**.\n",
    "\n",
    "<div style=\"text-align:center\"><img src=\"https://media.giphy.com/media/uA147Pq6OvgCA/giphy.gif\" /></div>"
   ]
  },
  {
   "cell_type": "markdown",
   "metadata": {},
   "source": [
    "La colección está formada por **vasijas cerámicas de torno** encontradas en diversos yacimientos arqueológicos ibéricos ubicados en el Valle del Alto Gualquivir (España).\n",
    "\n",
    "<div style=\"text-align:center\"><img src=\"https://raw.githubusercontent.com/celiacintas/vasijas/master/imagenes/dataset.png\" width=\"400\"/></div>\n",
    "\n",
    "\n",
    "\n",
    "Está compuesta por unos miles de distintos recipientes, de los que se han registrado y clasificado **sus perfiles 2D proyectados** (vista lateral de cada una de ellas). La clasificación fue hecha en base a **criterios morfológicos** por un grupo de expertos~\\cite{LucenaMTAP2014}."
   ]
  },
  {
   "cell_type": "markdown",
   "metadata": {},
   "source": [
    "## ¿Cómo generamos nuevas muestras 3D? \n",
    "\n",
    "<div style=\"text-align:center\"><img src=\"https://raw.githubusercontent.com/celiacintas/vasijas/master/imagenes/augmentation_w.png\"/></div>\n",
    "\n"
   ]
  },
  {
   "cell_type": "markdown",
   "metadata": {},
   "source": [
    "## ¿Qué bibliotecas de Python usamos para implementar nuestros experimentos?\n",
    "\n",
    "\n",
    "<div style=\"text-align:center\"><img src=\"https://media.giphy.com/media/JDmIrA84Pw1hK/giphy.gif\" /></div>"
   ]
  },
  {
   "cell_type": "code",
   "execution_count": null,
   "metadata": {},
   "outputs": [],
   "source": [
    "#import trimesh, matplotlib, numpy, torch ... \n",
    "import "
   ]
  },
  {
   "cell_type": "markdown",
   "metadata": {},
   "source": [
    "## Qué es entrenamiento adversario?\n",
    "\n",
    "\\begin{equation}\n",
    "\\min_{\\text{roca}}\\max_{\\text{indiana}} V(\\text{indiana}, \\text{roca}) = \\text{distancia entre ellos}\n",
    "\\end{equation}\n",
    "\n",
    "\n",
    "<div style=\"text-align:center\"><img src=\"https://media.giphy.com/media/UVqDh08BFyGfrx9tRU/giphy.gif\" width=300/></div>\n",
    "\n",
    "<div style=\"text-align:center\"><img src=\"https://raw.githubusercontent.com/celiacintas/vasijas//master/imagenes/overview.png\" /></div>\n",
    "\n",
    "\n",
    "Imagen de \\cite{DBLP:journals/corr/abs-1710-07035}\n",
    "\n",
    "\n",
    "### Algunas notaciones básicas\n",
    "\n",
    "- $x$ es un **elemento de nuestro dataset ** (<img src=\"https://raw.githubusercontent.com/celiacintas/vasijas/master/imagenes/amphora_1f3fa.png\"  width=20/>).\n",
    "- $D(x)$ es la salida de la red evaluadora (<img src=\"https://raw.githubusercontent.com/celiacintas/vasijas/master/imagenes/detective.png\"  width=20/>), que nos devuelve **la probabilidad** de que $x$ sea real (<img src=\"https://raw.githubusercontent.com/celiacintas/vasijas/master/imagenes/amphora_1f3fa.png\"  width=20/>) o generado (<img src=\"https://raw.githubusercontent.com/celiacintas/vasijas/master/imagenes/robot-face_1f916.png\"  width=20/>) . $D(x)$ debería ser un valor alto cuando $x$ proviene de los datos de entrenamiento y bajo cuando $x$ es salida del generador.\n",
    "- $z$ es **el vector del espacio latente** muestreado sobre una distribución normal. $G(z)$ representa la función del generador (<img src=\"https://raw.githubusercontent.com/celiacintas/vasijas/master/imagenes/robot-face_1f916.png\"  width=20/>) que mapea el vector $z$ sobre el espacio de nuestros datos. \n",
    "- $D(G(z))$ es la probabilidad que la salida del generador sea un elemento real. $D$ trata de **maximizar la probabilidad** de clasificar correctamente elementos reales y falsos ($\\log D(x)$), y $G$ trata de **minimizar la probabilidad** de que $D$ clasifique sus elementos generados como falsos $(\\log (1 - D(G(x))$)\n"
   ]
  },
  {
   "cell_type": "markdown",
   "metadata": {},
   "source": [
    "### Cómo cargamos nuestros datos?"
   ]
  },
  {
   "cell_type": "code",
   "execution_count": 13,
   "metadata": {},
   "outputs": [],
   "source": [
    "from torchvision import datasets\n",
    "from torchvision import transforms as tfs\n",
    "import torchvision\n",
    "from torch.utils import data"
   ]
  },
  {
   "cell_type": "markdown",
   "metadata": {},
   "source": [
    "Torchvision provee formas sencillas para cargar datasets en formato necesario para ser consumido por una red en PyTorch. Ademas de cargar elementos existentes, cuenta con funciones de transformaciones basicas (afines:rotacion, traslacion, escala, etc) para aumentar artificialmente nuestro dataset.\n"
   ]
  },
  {
   "cell_type": "code",
   "execution_count": 16,
   "metadata": {},
   "outputs": [],
   "source": [
    "imagenet_data = datasets.ImageFolder('../../../../vasijas/data/png_clasificados/',\n",
    "                                     transform=tfs.Compose([tfs.RandomAffine(0., scale=(0.5, 1.), fillcolor=0),\n",
    "                                                           tfs.Resize((16, 16)),\n",
    "                                                           tfs.Grayscale(1),\n",
    "                                                           tfs.ToTensor()]))\n",
    "\n",
    "data_loader = data.DataLoader(imagenet_data, batch_size=16, shuffle=True)"
   ]
  },
  {
   "cell_type": "code",
   "execution_count": 11,
   "metadata": {},
   "outputs": [],
   "source": [
    "import matplotlib.pyplot as plt\n",
    "import numpy as np"
   ]
  },
  {
   "cell_type": "code",
   "execution_count": 17,
   "metadata": {},
   "outputs": [
    {
     "data": {
      "text/plain": [
       "<matplotlib.image.AxesImage at 0x12da8bf50>"
      ]
     },
     "execution_count": 17,
     "metadata": {},
     "output_type": "execute_result"
    },
    {
     "data": {
      "image/png": "[encoded data removed]",
      "text/plain": [
       "<Figure size 432x288 with 1 Axes>"
      ]
     },
     "metadata": {
      "needs_background": "light"
     },
     "output_type": "display_data"
    }
   ],
   "source": [
    "dataiter = iter(data_loader)\n",
    "images = dataiter.next()\n",
    "\n",
    "# show images\n",
    "plt.imshow(torchvision.utils.make_grid(images[0], nrow=4).permute(1, 2, 0))"
   ]
  },
  {
   "cell_type": "markdown",
   "metadata": {},
   "source": [
    "### Cómo Definimos la red Generadora y Evaluadora?"
   ]
  },
  {
   "cell_type": "code",
   "execution_count": 18,
   "metadata": {},
   "outputs": [
    {
     "name": "stdout",
     "output_type": "stream",
     "text": [
      "Writing generadora.py\n"
     ]
    }
   ],
   "source": [
    "%%writefile generadora.py\n",
    "class _G(nn.Module):\n",
    "    \"\"\"Clase Generadora\n",
    "       input_dim: tamaño del vector latente.\n",
    "       \"\"\"\n",
    "    def __init__(self, input_h_w=28, latent_v=62):\n",
    "        super(_G, self).__init__()\n",
    "        self.input_height = input_h_w\n",
    "        self.input_width = input_h_w\n",
    "        self.input_dim = latent_v\n",
    "        self.output_dim = 1\n",
    "\n",
    "        self.fc = nn.Sequential(\n",
    "            nn.Linear(self.input_dim, 1024),\n",
    "            nn.BatchNorm1d(1024),\n",
    "            nn.ReLU(),\n",
    "            nn.Linear(1024, 128 * (self.input_height // 4) * (self.input_width // 4)),\n",
    "            nn.BatchNorm1d(128 * (self.input_height // 4) * (self.input_width // 4)),\n",
    "            nn.ReLU(),\n",
    "        )\n",
    "        self.deconv = nn.Sequential(\n",
    "            nn.ConvTranspose2d(128, 64, 4, 2, 1),\n",
    "            nn.BatchNorm2d(64),\n",
    "            nn.ReLU(),\n",
    "            nn.ConvTranspose2d(64, self.output_dim, 4, 2, 1),\n",
    "            nn.Sigmoid(),\n",
    "        )\n",
    "        # utils.initialize_weights(self)\n",
    "\n",
    "    def forward(self, input):\n",
    "        x = self.fc(input)\n",
    "        x = x.view(-1, 128, (self.input_height // 4), (self.input_width // 4))\n",
    "        x = self.deconv(x)\n",
    "\n",
    "        return x"
   ]
  },
  {
   "cell_type": "code",
   "execution_count": 19,
   "metadata": {},
   "outputs": [
    {
     "name": "stdout",
     "output_type": "stream",
     "text": [
      "Writing evaluadora.py\n"
     ]
    }
   ],
   "source": [
    "%%writefile evaluadora.py\n",
    "from torch import nn\n",
    "from utils import utils\n",
    "\n",
    "class _D(nn.Module):\n",
    "    \"\"\" Clase evaluadora\n",
    "    TODO definir parametros\"\"\"\n",
    "    def __init__(self, input_h_w=28):\n",
    "        super(_D, self).__init__()     \n",
    "        self.input_height = input_h_w\n",
    "        self.input_width = input_h_w\n",
    "        self.input_dim = 1\n",
    "        self.output_dim = 1\n",
    "        \n",
    "        self.conv = nn.Sequential(\n",
    "            nn.Conv2d(self.input_dim, 64, 4, 2, 1),\n",
    "            nn.LeakyReLU(0.2),\n",
    "            nn.Conv2d(64, 128, 4, 2, 1),\n",
    "            nn.BatchNorm2d(128),\n",
    "            nn.LeakyReLU(0.2),\n",
    "        )\n",
    "        self.fc = nn.Sequential(\n",
    "            nn.Linear(128 * (self.input_height // 4) * (self.input_width // 4), 1024),\n",
    "            nn.BatchNorm1d(1024),\n",
    "            nn.LeakyReLU(0.2),\n",
    "            nn.Linear(1024, self.output_dim),\n",
    "            nn.Sigmoid(),\n",
    "        )\n",
    "        # utils.initialize_weights(self)\n",
    "\n",
    "    def forward(self, input_):\n",
    "        x = self.conv(input_)\n",
    "        x = x.view(-1, 128 * (self.input_height // 4) * (self.input_width // 4))\n",
    "        x = self.fc(x)\n",
    "\n",
    "        return x"
   ]
  },
  {
   "cell_type": "markdown",
   "metadata": {},
   "source": [
    "### Cómo entrenamos estas dos redes?\n",
    "\n",
    "<img src=\"https://raw.githubusercontent.com/celiacintas/vasijas/master/imagenes/GAN_epochs.gif\" width=200/>\n"
   ]
  },
  {
   "cell_type": "markdown",
   "metadata": {},
   "source": [
    "### Definiendo función de optimización y error\n",
    "\n",
    "todo add brief description of both"
   ]
  },
  {
   "cell_type": "code",
   "execution_count": null,
   "metadata": {},
   "outputs": [],
   "source": [
    "G = _G(input_h_w, latent_v)\n",
    "D = _D(input_h_w)\n",
    "G_optimizer = optim.Adam(G.parameters(),\n",
    "                                      lr=0.0002, betas=(0.5, 0.999))\n",
    "D_optimizer = optim.Adam(D.parameters(),\n",
    "                                      lr=0.0002, betas=(0.5, 0.999))\n",
    "BCE_loss = nn.BCELoss()"
   ]
  },
  {
   "cell_type": "code",
   "execution_count": null,
   "metadata": {},
   "outputs": [],
   "source": [
    "y_real_, y_fake_ = Variable(torch.ones(self.batch_size, 1)), \\\n",
    "                   Variable(torch.zeros(self.batch_size, 1))"
   ]
  },
  {
   "cell_type": "code",
   "execution_count": null,
   "metadata": {},
   "outputs": [],
   "source": [
    "for epoch in range(epoch):\n",
    "    G.train()\n",
    "    for iter,  (x_, _) in enumerate(data_loader):\n",
    "        # print(\"esta es la forma de mi batch,\", x_.shape)\n",
    "        if iter == data_loader.dataset.__len__() // batch_size:\n",
    "            break\n",
    "        \n",
    "        z_ = torch.rand((batch_size, z_dim))\n",
    "        x_, z_ = Variable(x_), Variable(z_)\n",
    "\n",
    "        # update D network\n",
    "        D_optimizer.zero_grad()\n",
    "\n",
    "        D_real = D(x_)\n",
    "        D_real_loss = BCE_loss(D_real, y_real_)\n",
    "\n",
    "        G_ = G(z_)\n",
    "        D_fake = D(G_)\n",
    "        D_fake_loss = BCE_loss(D_fake, y_fake_)\n",
    "\n",
    "        D_loss = D_real_loss + D_fake_loss\n",
    "        train_hist['D_loss'].append(D_loss.data[0])\n",
    "\n",
    "        D_loss.backward()\n",
    "        D_optimizer.step()\n",
    "\n",
    "        # update G network\n",
    "        G_optimizer.zero_grad()\n",
    "\n",
    "        G_ = G(z_)\n",
    "        D_fake = D(G_)\n",
    "        G_loss = BCE_loss(D_fake, y_real_)\n",
    "        train_hist['G_loss'].append(G_loss.data[0])\n",
    "\n",
    "        G_loss.backward()\n",
    "        G_optimizer.step()"
   ]
  },
  {
   "cell_type": "markdown",
   "metadata": {},
   "source": [
    "#### Sobre los autores\n",
    "- Pablo Navarro\n",
    "- Celia Cintas\n",
    "#### Sobre el proyecto\n",
    "\n",
    "Nombrar proyecto y gente de Jaen\n",
    "\n",
    "#### Algunas fuentes interesantes"
   ]
  }
 ],
 "metadata": {
  "kernelspec": {
   "display_name": "vasijas",
   "language": "python",
   "name": "vasijas"
  },
  "language_info": {
   "codemirror_mode": {
    "name": "ipython",
    "version": 3
   },
   "file_extension": ".py",
   "mimetype": "text/x-python",
   "name": "python",
   "nbconvert_exporter": "python",
   "pygments_lexer": "ipython3",
   "version": "3.7.4"
  }
 },
 "nbformat": 4,
 "nbformat_minor": 4
}
